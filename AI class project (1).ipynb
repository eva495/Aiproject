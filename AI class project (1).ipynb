{
 "cells": [
  {
   "cell_type": "markdown",
   "metadata": {},
   "source": [
    "# this code just compares the three algorithms"
   ]
  },
  {
   "cell_type": "code",
   "execution_count": 13,
   "metadata": {},
   "outputs": [
    {
     "name": "stdout",
     "output_type": "stream",
     "text": [
      "Logistic Regression Accuracy: 0.67, Precision: 0.67, Recall: 0.67, F1 Score: 0.67\n",
      "Naive Bayes Accuracy: 0.67, Precision: 0.67, Recall: 0.67, F1 Score: 0.67\n",
      "Support Vector Machine Accuracy: 0.83, Precision: 0.69, Recall: 0.83, F1 Score: 0.76\n"
     ]
    },
    {
     "name": "stderr",
     "output_type": "stream",
     "text": [
      "C:\\Users\\Owner\\anaconda3\\lib\\site-packages\\sklearn\\metrics\\_classification.py:1344: UndefinedMetricWarning: Precision is ill-defined and being set to 0.0 in labels with no predicted samples. Use `zero_division` parameter to control this behavior.\n",
      "  _warn_prf(average, modifier, msg_start, len(result))\n"
     ]
    }
   ],
   "source": [
    "import pandas as pd\n",
    "from sklearn.model_selection import train_test_split\n",
    "from sklearn.feature_extraction.text import CountVectorizer\n",
    "from sklearn.linear_model import LogisticRegression\n",
    "from sklearn.naive_bayes import MultinomialNB\n",
    "from sklearn.svm import SVC\n",
    "from sklearn.metrics import accuracy_score, precision_score, recall_score, f1_score\n",
    "\n",
    "# Load preprocessed data\n",
    "df = pd.read_csv('cleaned_data.csv')\n",
    "\n",
    "# Split data into training and testing sets\n",
    "X_train, X_test, y_train, y_test = train_test_split(df['Tweet Text'], df['Sentiment'], test_size=0.2, random_state=42)\n",
    "\n",
    "# Vectorize text data using bag-of-words model\n",
    "vectorizer = CountVectorizer()\n",
    "X_train = vectorizer.fit_transform(X_train)\n",
    "X_test = vectorizer.transform(X_test)\n",
    "\n",
    "# Fit logistic regression model\n",
    "lr_model = LogisticRegression()\n",
    "lr_model.fit(X_train, y_train)\n",
    "lr_pred = lr_model.predict(X_test)\n",
    "\n",
    "# Fit naive bayes model\n",
    "nb_model = MultinomialNB()\n",
    "nb_model.fit(X_train, y_train)\n",
    "nb_pred = nb_model.predict(X_test)\n",
    "\n",
    "# Fit support vector machine model\n",
    "svm_model = SVC()\n",
    "svm_model.fit(X_train, y_train)\n",
    "svm_pred = svm_model.predict(X_test)\n",
    "\n",
    "# Evaluate model performance\n",
    "lr_acc = accuracy_score(y_test, lr_pred)\n",
    "lr_prec = precision_score(y_test, lr_pred, average='weighted')\n",
    "lr_rec = recall_score(y_test, lr_pred, average='weighted')\n",
    "lr_f1 = f1_score(y_test, lr_pred, average='weighted')\n",
    "\n",
    "nb_acc = accuracy_score(y_test, nb_pred)\n",
    "nb_prec = precision_score(y_test, nb_pred, average='weighted')\n",
    "nb_rec = recall_score(y_test, nb_pred, average='weighted')\n",
    "nb_f1 = f1_score(y_test, nb_pred, average='weighted')\n",
    "\n",
    "svm_acc = accuracy_score(y_test, svm_pred)\n",
    "svm_prec = precision_score(y_test, svm_pred, average='weighted')\n",
    "svm_rec = recall_score(y_test, svm_pred, average='weighted')\n",
    "svm_f1 = f1_score(y_test, svm_pred, average='weighted')\n",
    "\n",
    "print('Logistic Regression Accuracy: {:.2f}, Precision: {:.2f}, Recall: {:.2f}, F1 Score: {:.2f}'.format(lr_acc, lr_prec, lr_rec, lr_f1))\n",
    "print('Naive Bayes Accuracy: {:.2f}, Precision: {:.2f}, Recall: {:.2f}, F1 Score: {:.2f}'.format(nb_acc, nb_prec, nb_rec, nb_f1))\n",
    "print('Support Vector Machine Accuracy: {:.2f}, Precision: {:.2f}, Recall: {:.2f}, F1 Score: {:.2f}'.format(svm_acc, svm_prec, svm_rec, svm_f1))\n"
   ]
  },
  {
   "cell_type": "code",
   "execution_count": 20,
   "metadata": {},
   "outputs": [
    {
     "name": "stdout",
     "output_type": "stream",
     "text": [
      "None\n",
      "None\n"
     ]
    }
   ],
   "source": [
    "new_tweet = \"I absolutely love this product! It's the best thing I've ever bought!\"\n",
    "sentiment = predict_sentiment(new_tweet)\n",
    "print(sentiment) # Output: Positive\n",
    "\n",
    "new_tweet = \"I hate this product. It's a waste of money.\"\n",
    "sentiment = predict_sentiment(new_tweet)\n",
    "print(sentiment) # Output: Negative\n",
    "\n",
    "\n",
    "\n"
   ]
  },
  {
   "cell_type": "markdown",
   "metadata": {},
   "source": [
    "# this code will prompt user to insert the text that needs to be analyzed"
   ]
  },
  {
   "cell_type": "code",
   "execution_count": 2,
   "metadata": {},
   "outputs": [
    {
     "name": "stdout",
     "output_type": "stream",
     "text": [
      "Enter a message to analyze: i hate your product\n",
      "Neutral\n"
     ]
    }
   ],
   "source": [
    "import pandas as pd\n",
    "from sklearn.feature_extraction.text import CountVectorizer\n",
    "from sklearn.linear_model import LogisticRegression\n",
    "from sklearn.naive_bayes import MultinomialNB\n",
    "from sklearn.svm import SVC\n",
    "\n",
    "# Load preprocessed data\n",
    "df = pd.read_csv('cleaned_data.csv')\n",
    "\n",
    "# Vectorize text data using bag-of-words model\n",
    "vectorizer = CountVectorizer()\n",
    "X = vectorizer.fit_transform(df['Tweet Text'])\n",
    "y = df['Sentiment']\n",
    "\n",
    "# Fit logistic regression model\n",
    "lr_model = LogisticRegression()\n",
    "lr_model.fit(X, y)\n",
    "\n",
    "# Fit naive bayes model\n",
    "nb_model = MultinomialNB()\n",
    "nb_model.fit(X, y)\n",
    "\n",
    "# Fit support vector machine model\n",
    "svm_model = SVC()\n",
    "svm_model.fit(X, y)\n",
    "\n",
    "# Define a function to determine the sentiment of a new message\n",
    "def predict_sentiment(message):\n",
    "    # Vectorize the new message using the same vectorizer object\n",
    "    message_vec = vectorizer.transform([message])\n",
    "    \n",
    "    # Use the trained models to predict the sentiment\n",
    "    lr_pred = lr_model.predict(message_vec)[0]\n",
    "    nb_pred = nb_model.predict(message_vec)[0]\n",
    "    svm_pred = svm_model.predict(message_vec)[0]\n",
    "    \n",
    "    # Return the most frequent sentiment prediction\n",
    "    if lr_pred == nb_pred:\n",
    "        return lr_pred\n",
    "    elif lr_pred == svm_pred:\n",
    "        return lr_pred\n",
    "    else:\n",
    "        return nb_pred\n",
    "\n",
    "# Prompt the user to enter a message for analysis\n",
    "new_message = input(\"Enter a message to analyze: \")\n",
    "\n",
    "# Determine the sentiment of the new message\n",
    "sentiment = predict_sentiment(new_message)\n",
    "print(sentiment)"
   ]
  },
  {
   "cell_type": "markdown",
   "metadata": {},
   "source": [
    "# compare the Naives bayes,Logical regression and support vector machine when given an new tweet compare their performance (i.e. Accuracy, precision, and recall) in sentiment analysis "
   ]
  },
  {
   "cell_type": "code",
   "execution_count": 5,
   "metadata": {},
   "outputs": [
    {
     "name": "stderr",
     "output_type": "stream",
     "text": [
      "C:\\Users\\Owner\\anaconda3\\lib\\site-packages\\sklearn\\metrics\\_classification.py:1344: UndefinedMetricWarning: Precision is ill-defined and being set to 0.0 in labels with no predicted samples. Use `zero_division` parameter to control this behavior.\n",
      "  _warn_prf(average, modifier, msg_start, len(result))\n",
      "C:\\Users\\Owner\\anaconda3\\lib\\site-packages\\sklearn\\metrics\\_classification.py:1344: UndefinedMetricWarning: Recall is ill-defined and being set to 0.0 in labels with no true samples. Use `zero_division` parameter to control this behavior.\n",
      "  _warn_prf(average, modifier, msg_start, len(result))\n"
     ]
    },
    {
     "name": "stdout",
     "output_type": "stream",
     "text": [
      "Logistic Regression Accuracy: 0.6666666666666666\n",
      "Logistic Regression Precision: 0.4444444444444444\n",
      "Logistic Regression Recall: 0.6666666666666666\n",
      "Naive Bayes Accuracy: 0.3333333333333333\n",
      "Naive Bayes Precision: 0.3333333333333333\n",
      "Naive Bayes Recall: 0.3333333333333333\n",
      "Support Vector Machine Accuracy: 0.5\n",
      "Support Vector Machine Precision: 0.39999999999999997\n",
      "Support Vector Machine Recall: 0.5\n",
      "Enter a message to analyze: skint always like excuse post favourite book amp\n",
      "Logistic Regression Sentiment: Negative\n",
      "Naive Bayes Sentiment: Negative\n",
      "Support Vector Machine Sentiment: Negative\n"
     ]
    }
   ],
   "source": [
    "import pandas as pd\n",
    "from sklearn.feature_extraction.text import CountVectorizer\n",
    "from sklearn.linear_model import LogisticRegression\n",
    "from sklearn.naive_bayes import MultinomialNB\n",
    "from sklearn.svm import SVC\n",
    "from sklearn.metrics import accuracy_score, precision_score, recall_score\n",
    "\n",
    "# Load preprocessed data\n",
    "df = pd.read_csv('cleaned_data.csv')\n",
    "\n",
    "# Vectorize text data using bag-of-words model\n",
    "vectorizer = CountVectorizer()\n",
    "X = vectorizer.fit_transform(df['Tweet Text'])\n",
    "y = df['Sentiment']\n",
    "\n",
    "# Split data into training and testing sets\n",
    "from sklearn.model_selection import train_test_split\n",
    "X_train, X_test, y_train, y_test = train_test_split(X, y, test_size=0.2)\n",
    "\n",
    "# Fit logistic regression model\n",
    "lr_model = LogisticRegression()\n",
    "lr_model.fit(X_train, y_train)\n",
    "\n",
    "# Fit naive bayes model\n",
    "nb_model = MultinomialNB()\n",
    "nb_model.fit(X_train, y_train)\n",
    "\n",
    "# Fit support vector machine model\n",
    "svm_model = SVC()\n",
    "svm_model.fit(X_train, y_train)\n",
    "\n",
    "# Define a function to evaluate model performance\n",
    "def evaluate_model(model, X_test, y_test):\n",
    "    y_pred = model.predict(X_test)\n",
    "    accuracy = accuracy_score(y_test, y_pred)\n",
    "    precision = precision_score(y_test, y_pred, average='weighted')\n",
    "    recall = recall_score(y_test, y_pred, average='weighted')\n",
    "    return accuracy, precision, recall\n",
    "\n",
    "# Evaluate the performance of each model on the testing set\n",
    "lr_accuracy, lr_precision, lr_recall = evaluate_model(lr_model, X_test, y_test)\n",
    "nb_accuracy, nb_precision, nb_recall = evaluate_model(nb_model, X_test, y_test)\n",
    "svm_accuracy, svm_precision, svm_recall = evaluate_model(svm_model, X_test, y_test)\n",
    "\n",
    "# Print the performance metrics for each model\n",
    "print(\"Logistic Regression Accuracy:\", lr_accuracy)\n",
    "print(\"Logistic Regression Precision:\", lr_precision)\n",
    "print(\"Logistic Regression Recall:\", lr_recall)\n",
    "\n",
    "print(\"Naive Bayes Accuracy:\", nb_accuracy)\n",
    "print(\"Naive Bayes Precision:\", nb_precision)\n",
    "print(\"Naive Bayes Recall:\", nb_recall)\n",
    "\n",
    "print(\"Support Vector Machine Accuracy:\", svm_accuracy)\n",
    "print(\"Support Vector Machine Precision:\", svm_precision)\n",
    "print(\"Support Vector Machine Recall:\", svm_recall)\n",
    "\n",
    "# Prompt the user to enter a message for analysis\n",
    "new_message = input(\"Enter a message to analyze: \")\n",
    "\n",
    "# Determine the sentiment of the new message using each model\n",
    "lr_sentiment = lr_model.predict(vectorizer.transform([new_message]))[0]\n",
    "nb_sentiment = nb_model.predict(vectorizer.transform([new_message]))[0]\n",
    "svm_sentiment = svm_model.predict(vectorizer.transform([new_message]))[0]\n",
    "\n",
    "# Print the predicted sentiment for each model\n",
    "print(\"Logistic Regression Sentiment:\", lr_sentiment)\n",
    "print(\"Naive Bayes Sentiment:\", nb_sentiment)\n",
    "print(\"Support Vector Machine Sentiment:\", svm_sentiment)\n"
   ]
  },
  {
   "cell_type": "code",
   "execution_count": null,
   "metadata": {},
   "outputs": [],
   "source": [
    "#this code is same as part of the int[5]"
   ]
  },
  {
   "cell_type": "code",
   "execution_count": 8,
   "metadata": {},
   "outputs": [
    {
     "name": "stderr",
     "output_type": "stream",
     "text": [
      "C:\\Users\\Owner\\anaconda3\\lib\\site-packages\\sklearn\\metrics\\_classification.py:1344: UndefinedMetricWarning: Recall is ill-defined and being set to 0.0 in labels with no true samples. Use `zero_division` parameter to control this behavior.\n",
      "  _warn_prf(average, modifier, msg_start, len(result))\n",
      "C:\\Users\\Owner\\anaconda3\\lib\\site-packages\\sklearn\\metrics\\_classification.py:1344: UndefinedMetricWarning: Precision is ill-defined and being set to 0.0 in labels with no predicted samples. Use `zero_division` parameter to control this behavior.\n",
      "  _warn_prf(average, modifier, msg_start, len(result))\n"
     ]
    },
    {
     "name": "stdout",
     "output_type": "stream",
     "text": [
      "Logistic Regression:\n",
      "Accuracy: 0.6666666666666666\n",
      "Precision: 0.6666666666666666\n",
      "Recall: 0.6666666666666666\n",
      "\n",
      "Naive Bayes:\n",
      "Accuracy: 0.5\n",
      "Precision: 0.625\n",
      "Recall: 0.5\n",
      "\n",
      "Support Vector Machine:\n",
      "Accuracy: 0.8333333333333334\n",
      "Precision: 0.6944444444444445\n",
      "Recall: 0.8333333333333334\n",
      "\n",
      "Enter a message to analyze: cows are stupid\n",
      "Logistic Regression predicted: Neutral\n",
      "Naive Bayes predicted: Neutral\n",
      "Support Vector Machine predicted: Neutral\n"
     ]
    }
   ],
   "source": [
    "import pandas as pd\n",
    "from sklearn.feature_extraction.text import CountVectorizer\n",
    "from sklearn.model_selection import train_test_split\n",
    "from sklearn.metrics import accuracy_score, precision_score, recall_score\n",
    "from sklearn.linear_model import LogisticRegression\n",
    "from sklearn.naive_bayes import MultinomialNB\n",
    "from sklearn.svm import SVC\n",
    "\n",
    "# Load preprocessed data\n",
    "df = pd.read_csv('cleaned_data.csv')\n",
    "\n",
    "# Vectorize text data using bag-of-words model\n",
    "vectorizer = CountVectorizer()\n",
    "X = vectorizer.fit_transform(df['Tweet Text'])\n",
    "y = df['Sentiment']\n",
    "\n",
    "# Split data into training and testing sets\n",
    "X_train, X_test, y_train, y_test = train_test_split(X, y, test_size=0.2, random_state=42)\n",
    "\n",
    "# Fit logistic regression model\n",
    "lr_model = LogisticRegression()\n",
    "lr_model.fit(X_train, y_train)\n",
    "\n",
    "# Fit naive bayes model\n",
    "nb_model = MultinomialNB()\n",
    "nb_model.fit(X_train, y_train)\n",
    "\n",
    "# Fit support vector machine model\n",
    "svm_model = SVC()\n",
    "svm_model.fit(X_train, y_train)\n",
    "\n",
    "# Define a function to evaluate the performance of each model\n",
    "def evaluate_model(model, X_test, y_test):\n",
    "    y_pred = model.predict(X_test)\n",
    "    accuracy = accuracy_score(y_test, y_pred)\n",
    "    precision = precision_score(y_test, y_pred, average='weighted')\n",
    "    recall = recall_score(y_test, y_pred, average='weighted')\n",
    "    return accuracy, precision, recall\n",
    "\n",
    "# Evaluate the performance of each model\n",
    "lr_acc, lr_prec, lr_recall = evaluate_model(lr_model, X_test, y_test)\n",
    "nb_acc, nb_prec, nb_recall = evaluate_model(nb_model, X_test, y_test)\n",
    "svm_acc, svm_prec, svm_recall = evaluate_model(svm_model, X_test, y_test)\n",
    "\n",
    "# Print the performance metrics for each model\n",
    "print(\"Logistic Regression:\")\n",
    "print(\"Accuracy:\", lr_acc)\n",
    "print(\"Precision:\", lr_prec)\n",
    "print(\"Recall:\", lr_recall)\n",
    "print()\n",
    "print(\"Naive Bayes:\")\n",
    "print(\"Accuracy:\", nb_acc)\n",
    "print(\"Precision:\", nb_prec)\n",
    "print(\"Recall:\", nb_recall)\n",
    "print()\n",
    "print(\"Support Vector Machine:\")\n",
    "print(\"Accuracy:\", svm_acc)\n",
    "print(\"Precision:\", svm_prec)\n",
    "print(\"Recall:\", svm_recall)\n",
    "print()\n",
    "\n",
    "# Prompt the user to enter a message for analysis\n",
    "new_message = input(\"Enter a message to analyze: \")\n",
    "\n",
    "# Determine the sentiment of the new message using each model\n",
    "lr_sentiment = lr_model.predict(vectorizer.transform([new_message]))[0]\n",
    "nb_sentiment = nb_model.predict(vectorizer.transform([new_message]))[0]\n",
    "svm_sentiment = svm_model.predict(vectorizer.transform([new_message]))[0]\n",
    "\n",
    "# Print the sentiment predicted by each model\n",
    "print(\"Logistic Regression predicted:\", lr_sentiment)\n",
    "print(\"Naive Bayes predicted:\", nb_sentiment)\n",
    "print(\"Support Vector Machine predicted:\", svm_sentiment)\n"
   ]
  }
 ],
 "metadata": {
  "kernelspec": {
   "display_name": "Python 3",
   "language": "python",
   "name": "python3"
  },
  "language_info": {
   "codemirror_mode": {
    "name": "ipython",
    "version": 3
   },
   "file_extension": ".py",
   "mimetype": "text/x-python",
   "name": "python",
   "nbconvert_exporter": "python",
   "pygments_lexer": "ipython3",
   "version": "3.8.3"
  }
 },
 "nbformat": 4,
 "nbformat_minor": 4
}
